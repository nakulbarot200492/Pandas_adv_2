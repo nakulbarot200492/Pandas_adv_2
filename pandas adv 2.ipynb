{
 "cells": [
  {
   "cell_type": "markdown",
   "id": "1c1c24fa-1400-414f-8bcb-04690564fcf7",
   "metadata": {},
   "source": [
    "### Consider following code to answer further questions:\n",
    "import pandas as pd\n",
    "course_name = [‘Data Science’, ‘Machine Learning’, ‘Big Data’, ‘Data Engineer’]\n",
    "duration = [2,3,6,4]\n",
    "df = pd.DataFrame(data = {‘course_name’ : course_name, ‘duration’ : duration})\n",
    "Q1. Write a code to print the data present in the second row of the dataframe, df."
   ]
  },
  {
   "cell_type": "code",
   "execution_count": 1,
   "id": "2e33da34-776d-48b0-8ba6-b71d01bd7a4b",
   "metadata": {},
   "outputs": [
    {
     "name": "stdout",
     "output_type": "stream",
     "text": [
      "Original dataframe:\n",
      "        course_name  duration\n",
      "0      Data Science         2\n",
      "1  Machine Learning         3\n",
      "2          Big Data         6\n",
      "3     Data Engineer         4\n",
      "\n",
      "Q1. Data in the second row of df:\n",
      "course_name    Machine Learning\n",
      "duration                      3\n",
      "Name: 1, dtype: object\n",
      "\n"
     ]
    }
   ],
   "source": [
    "# Import necessary libraries\n",
    "import pandas as pd\n",
    "import numpy as np\n",
    "\n",
    "# Create the initial dataframe as given in the assignment\n",
    "course_name = ['Data Science', 'Machine Learning', 'Big Data', 'Data Engineer']\n",
    "duration = [2, 3, 6, 4]\n",
    "df = pd.DataFrame(data={'course_name': course_name, 'duration': duration})\n",
    "\n",
    "# Display the dataframe\n",
    "print(\"Original dataframe:\")\n",
    "print(df)\n",
    "print()\n",
    "\n",
    "# Q1. Write a code to print the data present in the second row of the dataframe, df.\n",
    "print(\"Q1. Data in the second row of df:\")\n",
    "print(df.iloc[1])\n",
    "print()"
   ]
  },
  {
   "cell_type": "markdown",
   "id": "82368a54-cd13-4a43-a74a-a5017172b2b4",
   "metadata": {},
   "source": [
    "### Q2. What is the difference between the functions loc and iloc in pandas.DataFrame?"
   ]
  },
  {
   "cell_type": "code",
   "execution_count": 2,
   "id": "f75254f9-fad3-4d95-a1e6-d9f8a672b7cc",
   "metadata": {},
   "outputs": [
    {
     "name": "stdout",
     "output_type": "stream",
     "text": [
      "Q2. Difference between loc and iloc:\n",
      "loc: Label-based indexing. Used to access rows/columns by their index labels.\n",
      "iloc: Integer position-based indexing. Used to access rows/columns by their integer positions.\n",
      "\n"
     ]
    }
   ],
   "source": [
    "print(\"Q2. Difference between loc and iloc:\")\n",
    "print(\"loc: Label-based indexing. Used to access rows/columns by their index labels.\")\n",
    "print(\"iloc: Integer position-based indexing. Used to access rows/columns by their integer positions.\")\n",
    "print()"
   ]
  },
  {
   "cell_type": "markdown",
   "id": "3aef865e-6a93-4b33-a402-e64caf0951e9",
   "metadata": {},
   "source": [
    "### Q3. Reindex the given dataframe using a variable, reindex = [3,0,1,2] and store it in the variable, new_df then find the output for both new_df.loc[2] and new_df.iloc[2]."
   ]
  },
  {
   "cell_type": "code",
   "execution_count": 3,
   "id": "4299d5aa-1ba9-40b7-b798-bf9bacbd69b6",
   "metadata": {},
   "outputs": [
    {
     "name": "stdout",
     "output_type": "stream",
     "text": [
      "Original dataframe:\n",
      "        course_name  duration\n",
      "0      Data Science         2\n",
      "1  Machine Learning         3\n",
      "2          Big Data         6\n",
      "3     Data Engineer         4\n",
      "\n",
      "Q3. Reindexed dataframe:\n",
      "        course_name  duration\n",
      "3     Data Engineer         4\n",
      "0      Data Science         2\n",
      "1  Machine Learning         3\n",
      "2          Big Data         6\n",
      "\n",
      "new_df.loc[2]:\n",
      "course_name    Big Data\n",
      "duration              6\n",
      "Name: 2, dtype: object\n",
      "\n",
      "new_df.iloc[2]:\n",
      "course_name    Machine Learning\n",
      "duration                      3\n",
      "Name: 1, dtype: object\n",
      "\n",
      "Explanation:\n",
      "1. new_df.loc[2] returns the row with index label 2, which is the third row in the reindexed dataframe.\n",
      "2. new_df.iloc[2] returns the third row (0-based index) in the reindexed dataframe, regardless of its label.\n",
      "The results differ because loc uses label-based indexing, while iloc uses integer-based indexing.\n"
     ]
    }
   ],
   "source": [
    "# Import necessary libraries\n",
    "import pandas as pd\n",
    "\n",
    "# Create the initial dataframe as given in the assignment\n",
    "course_name = ['Data Science', 'Machine Learning', 'Big Data', 'Data Engineer']\n",
    "duration = [2, 3, 6, 4]\n",
    "df = pd.DataFrame(data={'course_name': course_name, 'duration': duration})\n",
    "\n",
    "print(\"Original dataframe:\")\n",
    "print(df)\n",
    "print()\n",
    "\n",
    "# Q3. Reindex the given dataframe using a variable, reindex = [3,0,1,2] and store it in the variable, new_df\n",
    "# then find the output for both new_df.loc[2] and new_df.iloc[2].\n",
    "reindex = [3, 0, 1, 2]\n",
    "new_df = df.reindex(reindex)\n",
    "\n",
    "print(\"Q3. Reindexed dataframe:\")\n",
    "print(new_df)\n",
    "print(\"\\nnew_df.loc[2]:\")\n",
    "print(new_df.loc[2])\n",
    "print(\"\\nnew_df.iloc[2]:\")\n",
    "print(new_df.iloc[2])\n",
    "print()\n",
    "\n",
    "# Explanation of the results\n",
    "print(\"Explanation:\")\n",
    "print(\"1. new_df.loc[2] returns the row with index label 2, which is the third row in the reindexed dataframe.\")\n",
    "print(\"2. new_df.iloc[2] returns the third row (0-based index) in the reindexed dataframe, regardless of its label.\")\n",
    "print(\"The results differ because loc uses label-based indexing, while iloc uses integer-based indexing.\")"
   ]
  },
  {
   "cell_type": "markdown",
   "id": "e9a4ebd5-4df4-4839-9bd6-957a6f661e6e",
   "metadata": {},
   "source": [
    "### Q.4 Consider the below code to answer further questions:\n",
    "#### Q4. Write a code to find the following statistical measurements for the above dataframe df1:\n",
    "#### (i) mean of each and every column present in the dataframe.\n",
    "#### (ii) standard deviation of column, 'column_2'\n",
    "\n"
   ]
  },
  {
   "cell_type": "code",
   "execution_count": 4,
   "id": "64528681-1764-4533-aadf-a7096d02d141",
   "metadata": {},
   "outputs": [
    {
     "name": "stdout",
     "output_type": "stream",
     "text": [
      "\n",
      "    column_1  column_2  column_3  column_4  column_5  column_6\n",
      "1  0.490498  0.296093  0.267474  0.059918  0.038536  0.187993\n",
      "2  0.483693  0.998304  0.701897  0.267179  0.030000  0.735309\n",
      "3  0.108387  0.221926  0.248907  0.374868  0.860632  0.315879\n",
      "4  0.824280  0.744193  0.192550  0.460569  0.041656  0.377367\n",
      "5  0.064016  0.743574  0.695840  0.961117  0.546297  0.303838\n",
      "6  0.037313  0.894088  0.370846  0.617405  0.493360  0.460348\n",
      "Q4. Statistical measurements:\n",
      "(i) Mean of each column:\n",
      "column_1    0.334698\n",
      "column_2    0.649696\n",
      "column_3    0.412919\n",
      "column_4    0.456843\n",
      "column_5    0.335080\n",
      "column_6    0.396789\n",
      "dtype: float64\n",
      "\n",
      "(ii) Standard deviation of 'column_2':\n",
      "0.318439775787045\n",
      "\n"
     ]
    }
   ],
   "source": [
    "# Create df1 for the following questions\n",
    "columns = ['column_1', 'column_2', 'column_3', 'column_4', 'column_5', 'column_6']\n",
    "indices = [1, 2, 3, 4, 5, 6]\n",
    "df1 = pd.DataFrame(np.random.rand(6, 6), columns=columns, index=indices)\n",
    "\n",
    "print(\"\\n\",df1)\n",
    "\n",
    "print(\"Q4. Statistical measurements:\")\n",
    "print(\"(i) Mean of each column:\")\n",
    "print(df1.mean())\n",
    "print(\"\\n(ii) Standard deviation of 'column_2':\")\n",
    "print(df1['column_2'].std())\n",
    "print()"
   ]
  },
  {
   "cell_type": "markdown",
   "id": "985c818e-fb04-4f76-ba54-f50b006af2bb",
   "metadata": {},
   "source": [
    "### Q5. Replace the data present in the second row of column, ‘column_2’ by a string variable then find the\n",
    "#### mean of column, column_2.\n",
    "#### If you are getting errors in executing it then explain why.\n",
    "[Hint: To replace the data use df1.loc[] and equate this to string data of your choice.]"
   ]
  },
  {
   "cell_type": "code",
   "execution_count": 5,
   "id": "39804d18-d478-4bf9-8d55-6956bdc03815",
   "metadata": {},
   "outputs": [
    {
     "name": "stdout",
     "output_type": "stream",
     "text": [
      "Q5. After replacing data in the second row of 'column_2':\n",
      "   column_1    column_2  column_3  column_4  column_5  column_6\n",
      "1  0.490498    0.296093  0.267474  0.059918  0.038536  0.187993\n",
      "2  0.483693  nakulbarot  0.701897  0.267179  0.030000  0.735309\n",
      "3  0.108387    0.221926  0.248907  0.374868  0.860632  0.315879\n",
      "4  0.824280    0.744193  0.192550  0.460569  0.041656  0.377367\n",
      "5  0.064016    0.743574  0.695840  0.961117  0.546297  0.303838\n",
      "6  0.037313    0.894088  0.370846  0.617405  0.493360  0.460348\n",
      "\n",
      "Attempting to calculate mean of 'column_2':\n",
      "Error: unsupported operand type(s) for +: 'float' and 'str'\n",
      "Explanation: We get an error because we can't calculate the mean of a column that contains string data.\n",
      "\n"
     ]
    }
   ],
   "source": [
    "df1.loc[2, 'column_2']=\"nakulbarot\"\n",
    "print(\"Q5. After replacing data in the second row of 'column_2':\")\n",
    "print(df1)\n",
    "print(\"\\nAttempting to calculate mean of 'column_2':\")\n",
    "\n",
    "try:\n",
    "    mean_column_2=df1.column_2.mean()\n",
    "    print(mean_column_2)\n",
    "\n",
    "except TypeError as e:\n",
    "    print(f\"Error: {e}\")\n",
    "    print(\"Explanation: We get an error because we can't calculate the mean of a column that contains string data.\")\n",
    "    \n",
    "print()    \n",
    "    "
   ]
  },
  {
   "cell_type": "markdown",
   "id": "3df55acd-dad9-44ae-a90b-588b32be4d17",
   "metadata": {},
   "source": [
    "### Q6. What do you understand about the windows function in pandas and list the types of windows functions?"
   ]
  },
  {
   "cell_type": "code",
   "execution_count": 6,
   "id": "a1b507a0-56e9-4317-b3ba-930576964cfe",
   "metadata": {},
   "outputs": [
    {
     "name": "stdout",
     "output_type": "stream",
     "text": [
      "Q6. Understanding of windows functions in pandas:\n",
      "Window functions in pandas allow you to perform calculations across a set of rows that are related to the current row.\n",
      "Types of window functions include:\n",
      "1. Rolling window functions\n",
      "2. Expanding window functions\n",
      "3. Exponentially weighted window functions\n",
      "\n"
     ]
    }
   ],
   "source": [
    "print(\"Q6. Understanding of windows functions in pandas:\")\n",
    "print(\"Window functions in pandas allow you to perform calculations across a set of rows that are related to the current row.\")\n",
    "print(\"Types of window functions include:\")\n",
    "print(\"1. Rolling window functions\")\n",
    "print(\"2. Expanding window functions\")\n",
    "print(\"3. Exponentially weighted window functions\")\n",
    "print()"
   ]
  },
  {
   "cell_type": "markdown",
   "id": "00cb9359-98a8-48dc-9a12-fcc23c845717",
   "metadata": {},
   "source": [
    "### Q7. Write a code to print only the current month and year at the time of answering this question."
   ]
  },
  {
   "cell_type": "code",
   "execution_count": 7,
   "id": "dd0f0108-59f5-4d5c-8e7f-d1d4b62174fe",
   "metadata": {},
   "outputs": [
    {
     "name": "stdout",
     "output_type": "stream",
     "text": [
      "Q7. Current month and year:\n",
      "July 2024\n",
      "\n"
     ]
    }
   ],
   "source": [
    "current_date = pd.Timestamp.now()\n",
    "print(\"Q7. Current month and year:\")\n",
    "print(current_date.strftime(\"%B %Y\"))\n",
    "print()"
   ]
  },
  {
   "cell_type": "markdown",
   "id": "7481a7bb-2ad8-4742-999c-ea96f980c5bf",
   "metadata": {},
   "source": [
    "### Q8. Write a Python program that takes in two dates as input (in the format YYYY-MM-DD) and calculates the difference between them in days, hours, and minutes using Pandas time delta. The program should prompt the user to enter the dates and display the result."
   ]
  },
  {
   "cell_type": "code",
   "execution_count": 8,
   "id": "8603608e-805c-43c3-bcde-b1244060e7cb",
   "metadata": {},
   "outputs": [
    {
     "name": "stdout",
     "output_type": "stream",
     "text": [
      "Q8. Calculate time difference between two dates:\n"
     ]
    },
    {
     "name": "stdin",
     "output_type": "stream",
     "text": [
      "Enter the first date (YYYY-MM-DD):  2024-07-17\n",
      "Enter the second date (YYYY-MM-DD):  2024-07-31\n"
     ]
    },
    {
     "name": "stdout",
     "output_type": "stream",
     "text": [
      "Difference: 14 days, 0 hours, and 0 minutes\n",
      "\n"
     ]
    }
   ],
   "source": [
    "def calculate_time_difference(date1, date2):\n",
    "    d1=pd.to_datetime(date1)\n",
    "    d2=pd.to_datetime(date2)\n",
    "    \n",
    "    diff=d2-d1\n",
    "    days=diff.days\n",
    "    hours=diff.components.hours\n",
    "    minutes=diff.components.minutes\n",
    "    \n",
    "    return f\"Difference: {days} days, {hours} hours, and {minutes} minutes\"\n",
    "\n",
    "print(\"Q8. Calculate time difference between two dates:\")\n",
    "date1 = input(\"Enter the first date (YYYY-MM-DD): \")\n",
    "date2 = input(\"Enter the second date (YYYY-MM-DD): \")\n",
    "print(calculate_time_difference(date1, date2))\n",
    "print()"
   ]
  },
  {
   "cell_type": "markdown",
   "id": "fdd2838b-5d22-49aa-946d-c26ae553bf87",
   "metadata": {},
   "source": [
    "### Q9. Write a Python program that reads a CSV file containing categorical data and converts a specified column to a categorical data type. The program should prompt the user to enter the file path, column name, and category order, and then display the sorted data."
   ]
  },
  {
   "cell_type": "code",
   "execution_count": 14,
   "id": "1ec70c6e-eb23-4e55-8eaf-a204a23ca871",
   "metadata": {},
   "outputs": [
    {
     "name": "stdout",
     "output_type": "stream",
     "text": [
      "Q9. Process categorical CSV:\n"
     ]
    },
    {
     "name": "stdin",
     "output_type": "stream",
     "text": [
      "Enter the file path of the CSV:  /home/jovyan/work/pandas advance/data.csv\n",
      "Enter the column name to convert to categorical:  phone_number\n",
      "Enter the category order (comma-separated):   \n"
     ]
    },
    {
     "name": "stdout",
     "output_type": "stream",
     "text": [
      "\n",
      "Original DataFrame (first few rows):\n",
      "    name         email_id  phone_number\n",
      "0   sudh   sudh@gmail.com      92342424\n",
      "1  krish  krish@gmail.com       9324242\n",
      "\n",
      "DataFrame after converting 'phone_number' to categorical with order [' '] (first few rows):\n",
      "    name         email_id phone_number\n",
      "0   sudh   sudh@gmail.com          NaN\n",
      "1  krish  krish@gmail.com          NaN\n",
      "\n",
      "Sorted DataFrame based on the categorical column (first few rows):\n",
      "    name         email_id phone_number\n",
      "0   sudh   sudh@gmail.com          NaN\n",
      "1  krish  krish@gmail.com          NaN\n"
     ]
    }
   ],
   "source": [
    "import pandas as pd\n",
    "\n",
    "def process_categorical_csv():\n",
    "    # Prompt user for inputs\n",
    "    file_path = input(\"Enter the file path of the CSV: \")\n",
    "    column_name = input(\"Enter the column name to convert to categorical: \")\n",
    "    category_order = input(\"Enter the category order (comma-separated): \").split(',')\n",
    "    \n",
    "    try:\n",
    "        # Read the CSV file\n",
    "        df = pd.read_csv(file_path)\n",
    "        \n",
    "        print(\"\\nOriginal DataFrame (first few rows):\")\n",
    "        print(df.head())\n",
    "        print()\n",
    "\n",
    "        # Convert the specified column to categorical with the given order\n",
    "        df[column_name] = pd.Categorical(df[column_name], categories=category_order, ordered=True)\n",
    "        \n",
    "        print(f\"DataFrame after converting '{column_name}' to categorical with order {category_order} (first few rows):\")\n",
    "        print(df.head())\n",
    "        print()\n",
    "        \n",
    "        print(\"Sorted DataFrame based on the categorical column (first few rows):\")\n",
    "        print(df.sort_values(column_name).head())\n",
    "        \n",
    "    except FileNotFoundError:\n",
    "        print(\"File not found. Please check the file path.\")\n",
    "    except KeyError:\n",
    "        print(f\"Column '{column_name}' not found in the CSV file.\")\n",
    "    except Exception as e:\n",
    "        print(f\"An error occurred: {e}\")\n",
    "\n",
    "print(\"Q9. Process categorical CSV:\")\n",
    "process_categorical_csv()"
   ]
  },
  {
   "cell_type": "code",
   "execution_count": 12,
   "id": "92e74bc5-7d49-4ca8-b354-366504e646fb",
   "metadata": {},
   "outputs": [
    {
     "data": {
      "text/plain": [
       "'/home/jovyan/work/pandas advance'"
      ]
     },
     "execution_count": 12,
     "metadata": {},
     "output_type": "execute_result"
    }
   ],
   "source": [
    "import os\n",
    "os.getcwd()"
   ]
  },
  {
   "cell_type": "markdown",
   "id": "2b4f7a3d-d182-4e9a-aef4-eabe08dcc5f4",
   "metadata": {},
   "source": [
    "### Q10. Write a Python program that reads a CSV file containing sales data for different products and visualizes the data using a stacked bar chart to show the sales of each product category over time. The program should prompt the user to enter the file path and display the chart."
   ]
  },
  {
   "cell_type": "code",
   "execution_count": 1,
   "id": "df7b41a6-a016-4a70-9ce4-1333c5c21bca",
   "metadata": {},
   "outputs": [
    {
     "name": "stdout",
     "output_type": "stream",
     "text": [
      "Q10. Visualize sales data:\n"
     ]
    },
    {
     "name": "stdin",
     "output_type": "stream",
     "text": [
      "Enter the file path of the CSV file containing sales data:  /home/jovyan/work/pandas advance/electronics.csv\n"
     ]
    },
    {
     "data": {
      "image/png": "[encoded data removed]",
      "text/plain": [
       "<Figure size 1200x600 with 1 Axes>"
      ]
     },
     "metadata": {},
     "output_type": "display_data"
    }
   ],
   "source": [
    "import pandas as pd\n",
    "import matplotlib.pyplot as plt\n",
    "\n",
    "def visualize_sales_data():\n",
    "    file_path = input(\"Enter the file path of the CSV file containing sales data: \")\n",
    "    \n",
    "    try:\n",
    "        # Read the CSV file\n",
    "        df = pd.read_csv(file_path)\n",
    "        \n",
    "        # Convert 'Date' to datetime, specifying the format\n",
    "        df['Date'] = pd.to_datetime(df['Date'], format='%B')\n",
    "        \n",
    "        # Pivot the data to create a column for each product\n",
    "        df_pivot = df.pivot(index='Date', columns='Product', values='units sales')\n",
    "        \n",
    "        # Sort the DataFrame by date\n",
    "        df_pivot = df_pivot.sort_index()\n",
    "        \n",
    "        # Create a stacked bar chart\n",
    "        ax = df_pivot.plot(kind='bar', stacked=True, figsize=(12, 6))\n",
    "        \n",
    "        plt.title('Sales of Product Categories Over Time')\n",
    "        plt.xlabel('Month')\n",
    "        plt.ylabel('Units Sold')\n",
    "        plt.legend(title='Product Categories', bbox_to_anchor=(1.05, 1), loc='upper left')\n",
    "        plt.xticks(rotation=45)\n",
    "        \n",
    "        # Add value labels on the bars\n",
    "        for c in ax.containers:\n",
    "            ax.bar_label(c, label_type='center')\n",
    "        \n",
    "        plt.tight_layout()\n",
    "        plt.show()\n",
    "    except FileNotFoundError:\n",
    "        print(\"File not found. Please check the file path.\")\n",
    "    except Exception as e:\n",
    "        print(f\"An error occurred: {e}\")\n",
    "\n",
    "print(\"Q10. Visualize sales data:\")\n",
    "visualize_sales_data()"
   ]
  },
  {
   "cell_type": "markdown",
   "id": "cc926f4f-9949-4b8a-9caf-baa8a04a67f8",
   "metadata": {},
   "source": [
    "### Q11. You are given a CSV file containing student data that includes the student ID and their test score. Write a Python program that reads the CSV file, calculates the mean, median, and mode of the test scores, and displays the results in a table."
   ]
  },
  {
   "cell_type": "code",
   "execution_count": 3,
   "id": "1efcc43d-2037-49d4-8d4a-16d8bb0d5f52",
   "metadata": {},
   "outputs": [
    {
     "name": "stdout",
     "output_type": "stream",
     "text": [
      "Sample student data created and saved to 'student_data.csv'\n",
      "Q11. Analyze student scores:\n"
     ]
    },
    {
     "name": "stdin",
     "output_type": "stream",
     "text": [
      "Enter the file path of the CSV file containing the student data:  /home/jovyan/work/pandas advance/student_data.csv\n"
     ]
    },
    {
     "name": "stdout",
     "output_type": "stream",
     "text": [
      "\n",
      "Results:\n",
      "Statistic Value\n",
      "     Mean  83.5\n",
      "   Median  85.0\n",
      "     Mode    85\n",
      "\n",
      "Formatted Results Table:\n",
      "+-----------+--------+\n",
      "| Statistic | Value  |\n",
      "+-----------+--------+\n",
      "| Mean      |   83.5 |\n",
      "| Median    |   85.0 |\n",
      "| Mode      |     85 |\n",
      "+-----------+--------+\n"
     ]
    }
   ],
   "source": [
    "import pandas as pd\n",
    "\n",
    "# Create the student data\n",
    "data = {\n",
    "    'Student ID': [1, 2, 3, 4, 5, 6, 7, 8, 9, 10],\n",
    "    'Test Score': [85, 90, 80, 75, 85, 82, 78, 85, 90, 85]\n",
    "}\n",
    "\n",
    "# Create a DataFrame\n",
    "df = pd.DataFrame(data)\n",
    "\n",
    "# Save the DataFrame to a CSV file\n",
    "df.to_csv('student_data.csv', index=False)\n",
    "\n",
    "print(\"Sample student data created and saved to 'student_data.csv'\")\n",
    "\n",
    "import pandas as pd\n",
    "\n",
    "def analyze_student_scores():\n",
    "    file_path = input(\"Enter the file path of the CSV file containing the student data: \")\n",
    "    \n",
    "    try:\n",
    "        # Read the CSV file\n",
    "        df = pd.read_csv(file_path)\n",
    "        \n",
    "        # Calculate mean, median, and mode\n",
    "        mean_score = df['Test Score'].mean()\n",
    "        median_score = df['Test Score'].median()\n",
    "        mode_score = df['Test Score'].mode().tolist()\n",
    "        \n",
    "        # Create a DataFrame for the results table\n",
    "        results = pd.DataFrame({\n",
    "            'Statistic': ['Mean', 'Median', 'Mode'],\n",
    "            'Value': [\n",
    "                f'{mean_score:.1f}',\n",
    "                f'{median_score:.1f}',\n",
    "                ', '.join(map(str, mode_score))\n",
    "            ]\n",
    "        })\n",
    "        \n",
    "        # Display the results\n",
    "        print(\"\\nResults:\")\n",
    "        print(results.to_string(index=False))\n",
    "        \n",
    "        # Optional: Display the results in a more formatted table\n",
    "        print(\"\\nFormatted Results Table:\")\n",
    "        print(\"+-----------+--------+\")\n",
    "        print(\"| Statistic | Value  |\")\n",
    "        print(\"+-----------+--------+\")\n",
    "        for _, row in results.iterrows():\n",
    "            print(f\"| {row['Statistic']:<9} | {row['Value']:>6} |\")\n",
    "        print(\"+-----------+--------+\")\n",
    "        \n",
    "    except FileNotFoundError:\n",
    "        print(\"File not found. Please check the file path.\")\n",
    "    except KeyError:\n",
    "        print(\"The CSV file should contain 'Student ID' and 'Test Score' columns.\")\n",
    "    except Exception as e:\n",
    "        print(f\"An error occurred: {e}\")\n",
    "\n",
    "print(\"Q11. Analyze student scores:\")\n",
    "analyze_student_scores()"
   ]
  },
  {
   "cell_type": "code",
   "execution_count": null,
   "id": "328055f4-3e24-4933-965a-666e341d8852",
   "metadata": {},
   "outputs": [],
   "source": []
  },
  {
   "cell_type": "code",
   "execution_count": null,
   "id": "d2951e3e-f096-4644-9042-3ada70508294",
   "metadata": {},
   "outputs": [],
   "source": []
  }
 ],
 "metadata": {
  "kernelspec": {
   "display_name": "Python 3 (ipykernel)",
   "language": "python",
   "name": "python3"
  },
  "language_info": {
   "codemirror_mode": {
    "name": "ipython",
    "version": 3
   },
   "file_extension": ".py",
   "mimetype": "text/x-python",
   "name": "python",
   "nbconvert_exporter": "python",
   "pygments_lexer": "ipython3",
   "version": "3.10.8"
  }
 },
 "nbformat": 4,
 "nbformat_minor": 5
}
